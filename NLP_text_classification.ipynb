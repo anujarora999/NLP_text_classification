{
 "cells": [
  {
   "cell_type": "code",
   "execution_count": 5,
   "metadata": {
    "collapsed": true
   },
   "outputs": [],
   "source": [
    "from sklearn.datasets import fetch_20newsgroups"
   ]
  },
  {
   "cell_type": "code",
   "execution_count": 7,
   "metadata": {
    "collapsed": true
   },
   "outputs": [],
   "source": [
    "category_map = {\n",
    "     'comp.graphics' : \"Computer Graphics\",\n",
    "     'misc.forsale' : \"Sales\",\n",
    "     'rec.autos' : \"Autos\",\n",
    "     'rec.motorcycles' : \"Motocycle\",\n",
    "     'rec.sport.baseball' : \"Baseball\",\n",
    "     'rec.sport.hockey' : \"Hockey\",\n",
    "     'sci.electronics' : \"Electronics\",\n",
    "     'sci.med' : \"Medical\",\n",
    "     'sci.space' : \"Space\",\n",
    "     'talk.politics.guns' : \"Guns\",\n",
    "     'talk.politics.misc' : \"Politics\",\n",
    "     'talk.religion.misc' : \"Religion\"\n",
    "}\n",
    "\n",
    "dataset = fetch_20newsgroups(subset='train', categories=category_map.keys())"
   ]
  },
  {
   "cell_type": "code",
   "execution_count": 8,
   "metadata": {},
   "outputs": [
    {
     "data": {
      "text/plain": [
       "sklearn.datasets.base.Bunch"
      ]
     },
     "execution_count": 8,
     "metadata": {},
     "output_type": "execute_result"
    }
   ],
   "source": [
    "type(dataset)"
   ]
  },
  {
   "cell_type": "code",
   "execution_count": 9,
   "metadata": {},
   "outputs": [
    {
     "data": {
      "text/plain": [
       "dict_keys(['data', 'filenames', 'target_names', 'target', 'DESCR', 'description'])"
      ]
     },
     "execution_count": 9,
     "metadata": {},
     "output_type": "execute_result"
    }
   ],
   "source": [
    "dataset.keys()"
   ]
  },
  {
   "cell_type": "code",
   "execution_count": 10,
   "metadata": {},
   "outputs": [
    {
     "name": "stdout",
     "output_type": "stream",
     "text": [
      "<class 'scipy.sparse.csr.csr_matrix'>\n"
     ]
    }
   ],
   "source": [
    "from sklearn.feature_extraction.text import CountVectorizer\n",
    "\n",
    "vect = CountVectorizer()\n",
    "\n",
    "vectorizer = vect.fit_transform(dataset.data)\n",
    "\n",
    "print(type(vectorizer))"
   ]
  },
  {
   "cell_type": "code",
   "execution_count": 11,
   "metadata": {},
   "outputs": [
    {
     "name": "stdout",
     "output_type": "stream",
     "text": [
      "From: SASTLS@MVS.sas.com (Tamara Shaffer)\n",
      "Subject: Re: seizures ( infantile spasms )\n",
      "Nntp-Posting-Host: sdcmvs.mvs.sas.com\n",
      "Organization: SAS Institute Inc.\n",
      "Lines: 16\n",
      "\n",
      "In article <1993Apr20.184034.13779@dbased.nuo.dec.com>,\n",
      "dufault@lftfld.enet.dec.com (MD) writes:\n",
      " \n",
      ">\n",
      ">        The reason I'm posting this article to this newsgroup is to:\n",
      ">1. gather any information about this disorder from anyone who might\n",
      ">   have recently been *e*ffected by it ( from being associated with\n",
      ">   it or actually having this disorder ) and\n",
      ">2. help me find out where I can access any medical literature associated\n",
      ">   with seizures over the internet.\n",
      " \n",
      "I tried to e-mail you but it bounced back.  Please e-mail me and\n",
      "I will give you someone's name who might be very helpful.  You might\n",
      "also post your message to misc.kids.\n",
      "TAMARA\n",
      "sastls@mvs.sas.com\n",
      "\n"
     ]
    }
   ],
   "source": [
    "print(dataset.data[0])"
   ]
  },
  {
   "cell_type": "code",
   "execution_count": 12,
   "metadata": {
    "collapsed": true
   },
   "outputs": [],
   "source": [
    "from sklearn.feature_extraction.text import TfidfTransformer"
   ]
  },
  {
   "cell_type": "code",
   "execution_count": 13,
   "metadata": {
    "collapsed": true
   },
   "outputs": [],
   "source": [
    "tfidf = TfidfTransformer()\n",
    "tfidf_1 = tfidf.fit_transform(vectorizer)"
   ]
  },
  {
   "cell_type": "code",
   "execution_count": 14,
   "metadata": {
    "collapsed": true
   },
   "outputs": [],
   "source": [
    "# tfidf.toarray()"
   ]
  },
  {
   "cell_type": "code",
   "execution_count": 15,
   "metadata": {
    "collapsed": true
   },
   "outputs": [],
   "source": [
    "inputValues = [\"This year micorsoft will launch a new version of Nokia Lumia\",\n",
    "              \"I was riding my bike\",\n",
    "              \"This summer world cup will held in Brazil\",\n",
    "              \"NASA will try to build a home on MARS this year\"]"
   ]
  },
  {
   "cell_type": "code",
   "execution_count": 16,
   "metadata": {
    "collapsed": true
   },
   "outputs": [],
   "source": [
    "input_vect = vect.transform(inputValues)\n",
    "input_tfidf = tfidf.transform(input_vect)"
   ]
  },
  {
   "cell_type": "code",
   "execution_count": 17,
   "metadata": {
    "collapsed": true
   },
   "outputs": [],
   "source": [
    "from sklearn.naive_bayes import MultinomialNB"
   ]
  },
  {
   "cell_type": "code",
   "execution_count": 18,
   "metadata": {},
   "outputs": [
    {
     "data": {
      "text/plain": [
       "MultinomialNB(alpha=1.0, class_prior=None, fit_prior=True)"
      ]
     },
     "execution_count": 18,
     "metadata": {},
     "output_type": "execute_result"
    }
   ],
   "source": [
    "classifier = MultinomialNB()\n",
    "classifier.fit(tfidf_1, dataset.target)"
   ]
  },
  {
   "cell_type": "code",
   "execution_count": 19,
   "metadata": {
    "collapsed": true
   },
   "outputs": [],
   "source": [
    "pred_categories = classifier.predict(input_tfidf)\n"
   ]
  },
  {
   "cell_type": "code",
   "execution_count": 20,
   "metadata": {},
   "outputs": [
    {
     "name": "stdout",
     "output_type": "stream",
     "text": [
      "\n",
      "sentence :  This year micorsoft will launch a new version of Nokia Lumia \n",
      "Predicted Category : Space\n",
      "\n",
      "sentence :  I was riding my bike \n",
      "Predicted Category : Motocycle\n",
      "\n",
      "sentence :  This summer world cup will held in Brazil \n",
      "Predicted Category : Hockey\n",
      "\n",
      "sentence :  NASA will try to build a home on MARS this year \n",
      "Predicted Category : Space\n"
     ]
    }
   ],
   "source": [
    "for sent, category in zip(inputValues, pred_categories):\n",
    "    print(\"\\nsentence : \",sent,\"\\nPredicted Category :\",category_map[dataset.target_names[category]])"
   ]
  },
  {
   "cell_type": "code",
   "execution_count": 21,
   "metadata": {},
   "outputs": [
    {
     "data": {
      "text/plain": [
       "0.95939916716240337"
      ]
     },
     "execution_count": 21,
     "metadata": {},
     "output_type": "execute_result"
    }
   ],
   "source": [
    "classifier.score(tfidf_1, dataset.target)"
   ]
  },
  {
   "cell_type": "code",
   "execution_count": 22,
   "metadata": {},
   "outputs": [
    {
     "data": {
      "text/plain": [
       "['comp.graphics',\n",
       " 'misc.forsale',\n",
       " 'rec.autos',\n",
       " 'rec.motorcycles',\n",
       " 'rec.sport.baseball',\n",
       " 'rec.sport.hockey',\n",
       " 'sci.electronics',\n",
       " 'sci.med',\n",
       " 'sci.space',\n",
       " 'talk.politics.guns',\n",
       " 'talk.politics.misc',\n",
       " 'talk.religion.misc']"
      ]
     },
     "execution_count": 22,
     "metadata": {},
     "output_type": "execute_result"
    }
   ],
   "source": [
    "dataset.target_names"
   ]
  },
  {
   "cell_type": "code",
   "execution_count": null,
   "metadata": {
    "collapsed": true
   },
   "outputs": [],
   "source": []
  }
 ],
 "metadata": {
  "kernelspec": {
   "display_name": "Python 3",
   "language": "python",
   "name": "python3"
  },
  "language_info": {
   "codemirror_mode": {
    "name": "ipython",
    "version": 3
   },
   "file_extension": ".py",
   "mimetype": "text/x-python",
   "name": "python",
   "nbconvert_exporter": "python",
   "pygments_lexer": "ipython3",
   "version": "3.6.1"
  }
 },
 "nbformat": 4,
 "nbformat_minor": 2
}
